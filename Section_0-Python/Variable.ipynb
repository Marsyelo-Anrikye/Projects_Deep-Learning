{
 "cells": [
  {
   "cell_type": "code",
   "execution_count": 11,
   "metadata": {},
   "outputs": [
    {
     "name": "stdout",
     "output_type": "stream",
     "text": [
      "4 5.5 hello World!\n",
      "<class 'int'> <class 'float'> <class 'str'>\n"
     ]
    }
   ],
   "source": [
    "# Python Variables\n",
    "#Commands of Variable\n",
    "\n",
    "# Type of Variable\n",
    "a = 4 # a is an int variable\n",
    "b = 5.5 # b is a float variable\n",
    "c = \"hello World!\" # c is a string variable\n",
    "\n",
    "print ((a), (b), (c))# print the value of a, b e c\n",
    "print(type(a), type(b), type(c)) # print the type of variable a, e b\n"
   ]
  },
  {
   "cell_type": "code",
   "execution_count": 13,
   "metadata": {},
   "outputs": [
    {
     "name": "stdout",
     "output_type": "stream",
     "text": [
      "Variable        Type     Data/Info\n",
      "----------------------------------\n",
      "a               int      4\n",
      "aVariableName   int      10\n",
      "b               float    5.5\n",
      "c               str      hello World!\n",
      "filterOrder     int      18\n",
      "param4modelA    float    43.58\n",
      "user_name       str      Marcelo\n"
     ]
    }
   ],
   "source": [
    "# Create a new variable\n",
    "aVariableName = 10\n",
    "filterOrder   = 18\n",
    "user_name     = 'Marcelo'\n",
    "param4modelA  = 43.58\n",
    "\n",
    "%whos # This fuctions see what variables have created and what modules you have loaded in the computer's memory"
   ]
  },
  {
   "cell_type": "code",
   "execution_count": 14,
   "metadata": {},
   "outputs": [
    {
     "name": "stdout",
     "output_type": "stream",
     "text": [
      "3\n",
      "test\n"
     ]
    }
   ],
   "source": [
    "# Multiple assignmente\n",
    "varA, varB = 3,'test'\n",
    "print(varA)\n",
    "print(varB)"
   ]
  }
 ],
 "metadata": {
  "kernelspec": {
   "display_name": "Python 3",
   "language": "python",
   "name": "python3"
  },
  "language_info": {
   "codemirror_mode": {
    "name": "ipython",
    "version": 3
   },
   "file_extension": ".py",
   "mimetype": "text/x-python",
   "name": "python",
   "nbconvert_exporter": "python",
   "pygments_lexer": "ipython3",
   "version": "3.11.3"
  },
  "orig_nbformat": 4
 },
 "nbformat": 4,
 "nbformat_minor": 2
}
