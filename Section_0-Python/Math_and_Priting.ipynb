{
 "cells": [
  {
   "cell_type": "code",
   "execution_count": 2,
   "metadata": {},
   "outputs": [],
   "source": [
    "# Python Variables\n",
    "# Commands of Variable\n",
    "x = 7\n",
    "y = 4.3\n",
    "z = 0"
   ]
  },
  {
   "cell_type": "code",
   "execution_count": 6,
   "metadata": {},
   "outputs": [
    {
     "name": "stdout",
     "output_type": "stream",
     "text": [
      "(11.3, 2.7, 30.099999999999998, 1.627906976744186)\n"
     ]
    }
   ],
   "source": [
    "# Mathematics ALgebra\n",
    "# floating-pint algebra\n",
    "a = y + 3.5*x - 7\n",
    "a\n",
    "\n",
    "#Basic Operation of Math\n",
    "# Sum\n",
    "sum = x + y\n",
    "\n",
    "# Minus\n",
    "min = x - y\n",
    "\n",
    "# Multiply\n",
    "mul = x * y\n",
    "\n",
    "# Divide\n",
    "divide = x/y\n",
    "\n",
    "print((sum, min, mul, divide))"
   ]
  },
  {
   "cell_type": "code",
   "execution_count": 20,
   "metadata": {},
   "outputs": [
    {
     "name": "stdout",
     "output_type": "stream",
     "text": [
      "3.0 \n",
      " 2.080083823051904\n"
     ]
    }
   ],
   "source": [
    "# Square\n",
    "sr = 9**(1/2) # Square root\n",
    "\n",
    "sc = 9**(1/3) # Square cubic\n",
    "\n",
    "print(sr,\"\\n\",sc)"
   ]
  },
  {
   "cell_type": "code",
   "execution_count": 21,
   "metadata": {},
   "outputs": [
    {
     "data": {
      "text/plain": [
       "'Marcelo HenriquePereira Silva'"
      ]
     },
     "execution_count": 21,
     "metadata": {},
     "output_type": "execute_result"
    }
   ],
   "source": [
    "#work math with String\n",
    "firstName = \"Marcelo Henrique\"\n",
    "lastName = \"Pereira Silva\"\n",
    "\n",
    "firstName + lastName # Result from to sum of String\n",
    "firstName*3 # Result from to multiply one String with a int number\n",
    "\n",
    "\n",
    "# Overloading\n",
    "# How I use space betwen two string:\n",
    "    # S1 + \" \" + S2\n",
    "    # "
   ]
  },
  {
   "cell_type": "code",
   "execution_count": 25,
   "metadata": {},
   "outputs": [
    {
     "name": "stdout",
     "output_type": "stream",
     "text": [
      "7+4.3=11.3\n"
     ]
    }
   ],
   "source": [
    "#Printing\n",
    "print(str(x) + \"+\" + str(y) + \"=\" + str(x+y))\n"
   ]
  },
  {
   "cell_type": "code",
   "execution_count": 28,
   "metadata": {},
   "outputs": [
    {
     "data": {
      "text/plain": [
       "'5'"
      ]
     },
     "execution_count": 28,
     "metadata": {},
     "output_type": "execute_result"
    }
   ],
   "source": [
    "#\n",
    "ans = input(\"Give me a number: \") # For string\n",
    "ans\n",
    "\n",
    "ans = int(input(\"Give me a number: \"))# For Int\n",
    "ans\n",
    "\n",
    "ans = float(input(\"Give me a number: \"))# For Flaot"
   ]
  },
  {
   "cell_type": "code",
   "execution_count": 42,
   "metadata": {},
   "outputs": [
    {
     "name": "stdout",
     "output_type": "stream",
     "text": [
      "The hypotenuse is: 7.625\n"
     ]
    }
   ],
   "source": [
    "# Exercise!\n",
    "# Make the Pythagorean Theorem\n",
    "#Pythagorean Thoerem\n",
    "b = float(input(\"Choose the first number: \"))\n",
    "c = float(input(\"Choose the second number: \"))\n",
    "a = (b**2 + c**2)*(1/2)\n",
    "\n",
    "print(\"The hypotenuse is: \" + str(a))"
   ]
  }
 ],
 "metadata": {
  "kernelspec": {
   "display_name": "Python 3",
   "language": "python",
   "name": "python3"
  },
  "language_info": {
   "codemirror_mode": {
    "name": "ipython",
    "version": 3
   },
   "file_extension": ".py",
   "mimetype": "text/x-python",
   "name": "python",
   "nbconvert_exporter": "python",
   "pygments_lexer": "ipython3",
   "version": "3.11.3"
  },
  "orig_nbformat": 4
 },
 "nbformat": 4,
 "nbformat_minor": 2
}
